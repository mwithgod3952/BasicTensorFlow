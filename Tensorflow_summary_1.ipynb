{
  "nbformat": 4,
  "nbformat_minor": 0,
  "metadata": {
    "colab": {
      "name": "Tensorflow_summary_1.ipynb",
      "provenance": [],
      "collapsed_sections": [],
      "authorship_tag": "ABX9TyNfmgnhbkSgO3E59nTsqMUc",
      "include_colab_link": true
    },
    "kernelspec": {
      "name": "python3",
      "display_name": "Python 3"
    },
    "language_info": {
      "name": "python"
    }
  },
  "cells": [
    {
      "cell_type": "markdown",
      "metadata": {
        "id": "view-in-github",
        "colab_type": "text"
      },
      "source": [
        "<a href=\"https://colab.research.google.com/github/mwithgod3952/BasicTensorFlow/blob/main/Tensorflow_summary_1.ipynb\" target=\"_parent\"><img src=\"https://colab.research.google.com/assets/colab-badge.svg\" alt=\"Open In Colab\"/></a>"
      ]
    },
    {
      "cell_type": "markdown",
      "source": [
        "    TensorFlow has two main components that we will try to understand.\n",
        "        * Graphs\n",
        "        * Sessions\n",
        "    TensorFlow works by building a graph of defined computations. It is simply a way of defining the operations.\n",
        "    A TensorFlow session allows parts of the graph to be executed. It allocates memory and resources and handles the execution of the operations and computations we've defined.  \n",
        "        If i were to create some variable that gets added to the graph, and maybe that variable is the sum or the summation of two other variables.\n",
        "        what we need to understand is that it doesn't actually evaluate. it simply states that is the computation we've defined. \n",
        "        we just have that equation there. We know that this is the value, but we haven't evaluated it.  \n",
        "\n",
        "    Swssion is essentially a way to execute part or entire graph. \n",
        "    So when we start in a session, what we do is we start executing different aspects of the graph.\n",
        "    So we start at the lowest level of the graph where nothing is dependent on anything else, and we move our way through the graph, and start doing all of the different partial computations that we've defined."
      ],
      "metadata": {
        "id": "5bfNc9ui75ZZ"
      }
    },
    {
      "cell_type": "code",
      "execution_count": 1,
      "metadata": {
        "colab": {
          "base_uri": "https://localhost:8080/"
        },
        "id": "_x5Kzy3plg-F",
        "outputId": "b439530f-1c48-47b7-cdda-5290179fcc01"
      },
      "outputs": [
        {
          "output_type": "stream",
          "name": "stdout",
          "text": [
            "Mounted at /content/drive\n"
          ]
        }
      ],
      "source": [
        "from google.colab import drive; drive.mount('/content/drive', force_remount=True)"
      ]
    },
    {
      "cell_type": "code",
      "source": [
        "import os\n",
        "os.chdir('/content/drive/MyDrive/class_folder/Basic_Tensorflow')\n",
        "if os.getcwd().split('/')[-1] == 'Basic_Tensorflow':\n",
        "    wp = os.getcwd()\n",
        "else:\n",
        "    print('error is occured')"
      ],
      "metadata": {
        "id": "VDObIDPM4yNp"
      },
      "execution_count": 4,
      "outputs": []
    },
    {
      "cell_type": "code",
      "source": [
        ""
      ],
      "metadata": {
        "id": "YSaa8Rzs5h0l"
      },
      "execution_count": null,
      "outputs": []
    },
    {
      "cell_type": "code",
      "source": [
        ""
      ],
      "metadata": {
        "id": "LTgDuVIv6PyD"
      },
      "execution_count": null,
      "outputs": []
    }
  ]
}